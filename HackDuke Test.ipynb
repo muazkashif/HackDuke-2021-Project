{
 "cells": [
  {
   "cell_type": "code",
   "execution_count": 1,
   "id": "1bfb9c68",
   "metadata": {},
   "outputs": [
    {
     "ename": "ModuleNotFoundError",
     "evalue": "No module named 'deepchem'",
     "output_type": "error",
     "traceback": [
      "\u001b[0;31m---------------------------------------------------------------------------\u001b[0m",
      "\u001b[0;31mModuleNotFoundError\u001b[0m                       Traceback (most recent call last)",
      "\u001b[0;32m/var/folders/1n/6g2nndkj3ll1tf_4g89b5hm40000gn/T/ipykernel_28737/3960904545.py\u001b[0m in \u001b[0;36m<module>\u001b[0;34m\u001b[0m\n\u001b[0;32m----> 1\u001b[0;31m \u001b[0;32mimport\u001b[0m \u001b[0mdeepchem\u001b[0m \u001b[0;32mas\u001b[0m \u001b[0mdc\u001b[0m\u001b[0;34m\u001b[0m\u001b[0;34m\u001b[0m\u001b[0m\n\u001b[0m\u001b[1;32m      2\u001b[0m \u001b[0;32mfrom\u001b[0m \u001b[0mmolgan\u001b[0m \u001b[0;32mimport\u001b[0m \u001b[0mBasicMolGANModel\u001b[0m \u001b[0;32mas\u001b[0m \u001b[0mMolGAN\u001b[0m\u001b[0;34m\u001b[0m\u001b[0;34m\u001b[0m\u001b[0m\n\u001b[1;32m      3\u001b[0m \u001b[0;32mfrom\u001b[0m \u001b[0mdeepchem\u001b[0m\u001b[0;34m.\u001b[0m\u001b[0mmodels\u001b[0m\u001b[0;34m.\u001b[0m\u001b[0moptimizers\u001b[0m \u001b[0;32mimport\u001b[0m \u001b[0mExponentialDecay\u001b[0m\u001b[0;34m\u001b[0m\u001b[0;34m\u001b[0m\u001b[0m\n\u001b[1;32m      4\u001b[0m \u001b[0;32mfrom\u001b[0m \u001b[0mtensorflow\u001b[0m \u001b[0;32mimport\u001b[0m \u001b[0mone_hot\u001b[0m\u001b[0;34m\u001b[0m\u001b[0;34m\u001b[0m\u001b[0m\n",
      "\u001b[0;31mModuleNotFoundError\u001b[0m: No module named 'deepchem'"
     ]
    }
   ],
   "source": [
    "import deepchem as dc\n",
    "from molgan import BasicMolGANModel as MolGAN\n",
    "from deepchem.models.optimizers import ExponentialDecay\n",
    "from tensorflow import one_hot"
   ]
  },
  {
   "cell_type": "code",
   "execution_count": null,
   "id": "dcfdb9ad",
   "metadata": {},
   "outputs": [],
   "source": [
    "import pandas as pd"
   ]
  },
  {
   "cell_type": "code",
   "execution_count": null,
   "id": "56dc87eb",
   "metadata": {},
   "outputs": [],
   "source": [
    "smilesDF = pd.read_csv('Qsmiles.txt', delimiter = '\\n', header = None)\n",
    "smilesDF"
   ]
  },
  {
   "cell_type": "code",
   "execution_count": null,
   "id": "8161936a",
   "metadata": {},
   "outputs": [],
   "source": [
    "smilesList = list(smilesDF[0])\n",
    "smilesList"
   ]
  },
  {
   "cell_type": "markdown",
   "id": "c600c0fb",
   "metadata": {},
   "source": [
    "# Classical molGAN implementation"
   ]
  },
  {
   "cell_type": "code",
   "execution_count": null,
   "id": "f14b4905",
   "metadata": {},
   "outputs": [],
   "source": [
    "smiles = smilesList\n",
    "feat = dc.feat.MolGanFeaturizer()\n",
    "features = feat.featurize(smiles)\n",
    "features = list(filter(lambda x: x is not None, features))"
   ]
  },
  {
   "cell_type": "code",
   "execution_count": null,
   "id": "ec38f8d2",
   "metadata": {
    "scrolled": true
   },
   "outputs": [],
   "source": [
    "gan = MolGAN(learning_rate=ExponentialDecay(0.001, 0.9, 5000))\n",
    "dataset = dc.data.NumpyDataset([x.adjacency_matrix for x in features],[x.node_features for x in features])\n",
    "def iterbatches(epochs):\n",
    "    for i in range(epochs):\n",
    "        for batch in dataset.iterbatches(batch_size=gan.batch_size, pad_batches=True):\n",
    "            adjacency_tensor = one_hot(batch[0], gan.edges)\n",
    "            node_tensor = one_hot(batch[1], gan.nodes)\n",
    "            yield {gan.data_inputs[0]: adjacency_tensor, gan.data_inputs[1]:node_tensor}\n",
    "gan.fit_gan(iterbatches(8), generator_steps=0.2, checkpoint_interval=5000)\n",
    "generated_data = gan.predict_gan_generator(10)\n",
    "# convert graphs to RDKitmolecules\n",
    "nmols = feat.defeaturize(generated_data)\n",
    "print(\"{} molecules generated\".format(len(nmols)))\n",
    "# remove invalid moles\n",
    "nmols = list(filter(lambda x: x is not None, nmols))\n",
    "# currently training is unstable so 0 is a common outcome\n",
    "print (\"{} valid molecules\".format(len(nmols)))"
   ]
  },
  {
   "cell_type": "markdown",
   "id": "ad23a964",
   "metadata": {},
   "source": [
    "# Quantum Noise Stuff at bottom"
   ]
  },
  {
   "cell_type": "code",
   "execution_count": null,
   "id": "ad9017a1",
   "metadata": {},
   "outputs": [],
   "source": [
    "import numpy as np"
   ]
  },
  {
   "cell_type": "code",
   "execution_count": null,
   "id": "8da8dee3",
   "metadata": {},
   "outputs": [],
   "source": [
    "a = np.array(randNums)\n",
    "a"
   ]
  },
  {
   "cell_type": "code",
   "execution_count": null,
   "id": "c4047d15",
   "metadata": {},
   "outputs": [],
   "source": [
    "np.reshape(counts1,(1,10))"
   ]
  },
  {
   "cell_type": "code",
   "execution_count": null,
   "id": "aadad58f",
   "metadata": {},
   "outputs": [],
   "source": [
    "np.reshape(counts1,(10,1))"
   ]
  },
  {
   "cell_type": "markdown",
   "id": "6d74ea8c",
   "metadata": {},
   "source": [
    "# GAN with Activation Noise"
   ]
  },
  {
   "cell_type": "code",
   "execution_count": null,
   "id": "68f9c25f",
   "metadata": {},
   "outputs": [],
   "source": [
    "gan = MolGAN(learning_rate=ExponentialDecay(0.001, 0.9, 5000))\n",
    "dataset = dc.data.NumpyDataset([x.adjacency_matrix for x in features],[x.node_features for x in features])\n",
    "def iterbatches(epochs):\n",
    "    for i in range(epochs):\n",
    "        for batch in dataset.iterbatches(batch_size=gan.batch_size, pad_batches=True):\n",
    "            adjacency_tensor = one_hot(batch[0], gan.edges)\n",
    "            node_tensor = one_hot(batch[1], gan.nodes)\n",
    "            yield {gan.data_inputs[0]: adjacency_tensor, gan.data_inputs[1]:node_tensor}\n",
    "gan.fit_gan(iterbatches(20), generator_steps=0.2, checkpoint_interval=5000)\n",
    "\n",
    "inNoise = np.array(randNums)\n",
    "\n",
    "generated_data = gan.predict_gan_generator(noise_input = np.reshape(counts1,(100,10)))\n",
    "\n",
    "# convert graphs to RDKitmolecules\n",
    "nmols = feat.defeaturize(generated_data)\n",
    "print(\"{} molecules generated\".format(len(nmols)))\n",
    "# remove invalid moles\n",
    "nmols = list(filter(lambda x: x is not None, nmols))\n",
    "# currently training is unstable so 0 is a common outcome\n",
    "print (\"{} valid molecules\".format(len(nmols)))"
   ]
  },
  {
   "cell_type": "markdown",
   "id": "6b3df790",
   "metadata": {},
   "source": [
    "# Need to filter out duplicates\n",
    "## Need to visualize Molecules from classical and from quantum"
   ]
  },
  {
   "cell_type": "code",
   "execution_count": null,
   "id": "f811c7b2",
   "metadata": {
    "scrolled": true
   },
   "outputs": [],
   "source": [
    "tempMols = nmols\n",
    "tempMols"
   ]
  },
  {
   "cell_type": "code",
   "execution_count": null,
   "id": "bbfd2ab3",
   "metadata": {},
   "outputs": [],
   "source": [
    "from rdkit.Chem import Draw"
   ]
  },
  {
   "cell_type": "code",
   "execution_count": null,
   "id": "0a3b83cf",
   "metadata": {},
   "outputs": [],
   "source": [
    "Draw.MolToImage(tempMols[2])"
   ]
  },
  {
   "cell_type": "code",
   "execution_count": null,
   "id": "7f474789",
   "metadata": {},
   "outputs": [],
   "source": [
    "tempMols[1]"
   ]
  },
  {
   "cell_type": "code",
   "execution_count": null,
   "id": "8db638d3",
   "metadata": {},
   "outputs": [],
   "source": []
  },
  {
   "cell_type": "markdown",
   "id": "e82476bb",
   "metadata": {},
   "source": [
    "# Implementing the Quantum Lambda Activation Function"
   ]
  },
  {
   "cell_type": "code",
   "execution_count": null,
   "id": "1112c11c",
   "metadata": {},
   "outputs": [],
   "source": [
    "from qiskit import IBMQ\n",
    "#from qiskit_rng import Generator"
   ]
  },
  {
   "cell_type": "code",
   "execution_count": null,
   "id": "3afedde8",
   "metadata": {},
   "outputs": [],
   "source": [
    "from qiskit.circuit import library"
   ]
  },
  {
   "cell_type": "code",
   "execution_count": null,
   "id": "88c49af8",
   "metadata": {},
   "outputs": [],
   "source": [
    "from qiskit_rng import Generator"
   ]
  },
  {
   "cell_type": "code",
   "execution_count": null,
   "id": "28efc4ac",
   "metadata": {},
   "outputs": [],
   "source": [
    "IBMQ.save_account('63be3fbcd17706e675343eaca5c11964a916885ae585d2acdfdfdc476671eebbd3c47db6213f526255be9612a9389413162ca3bdd8862bbd6aa086549b44849f')"
   ]
  },
  {
   "cell_type": "code",
   "execution_count": null,
   "id": "51d1e271",
   "metadata": {},
   "outputs": [],
   "source": [
    "provider = IBMQ.load_account()\n",
    "backend = provider.get_backend('ibmq_qasm_simulator')"
   ]
  },
  {
   "cell_type": "code",
   "execution_count": null,
   "id": "faf1cb17",
   "metadata": {},
   "outputs": [],
   "source": [
    "IBMQ.load_account()"
   ]
  },
  {
   "cell_type": "code",
   "execution_count": null,
   "id": "b26655a5",
   "metadata": {},
   "outputs": [],
   "source": [
    "\n",
    "rng_provider = IBMQ.get_provider()\n",
    "backend = rng_provider.backend.ibmq_ourence\n",
    "\n",
    "generator = Generator(backend=backend)\n",
    "output = generator.sample(num_raw_bits=1024).block_until_ready()\n",
    "\n",
    "random_bits = output.extract()"
   ]
  },
  {
   "cell_type": "code",
   "execution_count": null,
   "id": "a4568e08",
   "metadata": {
    "scrolled": true
   },
   "outputs": [],
   "source": [
    "from qiskit import QuantumRegister, ClassicalRegister, QuantumCircuit, execute,IBMQ\n",
    "from qiskit.tools.monitor import job_monitor\n",
    "\n",
    "\n",
    "provider = IBMQ.get_provider()\n",
    "\n",
    "q = QuantumRegister(16,'q')\n",
    "c = ClassicalRegister(16,'c')\n",
    "circuit = QuantumCircuit(q,c)\n",
    "circuit.h(q) # Applies hadamard gate to all qubits\n",
    "circuit.measure(q,c) # Measures all qubits \n",
    "\n",
    "backend = provider.get_backend('ibmq_qasm_simulator')\n",
    "job = execute(circuit, backend, shots=1100)\n",
    "                               \n",
    "print('Executing Job...\\n')                 \n",
    "job_monitor(job)\n",
    "counts = job.result().get_counts()\n",
    "\n",
    "print('RESULT: ',counts,'\\n')\n",
    "print('Press any key to close')\n",
    "input()"
   ]
  },
  {
   "cell_type": "code",
   "execution_count": null,
   "id": "ba1ad079",
   "metadata": {},
   "outputs": [],
   "source": [
    "len(counts)"
   ]
  },
  {
   "cell_type": "code",
   "execution_count": null,
   "id": "0ce51390",
   "metadata": {},
   "outputs": [],
   "source": [
    "def binaryToDecimal(binary): \n",
    "    return int(binary,2)"
   ]
  },
  {
   "cell_type": "code",
   "execution_count": null,
   "id": "df7595ca",
   "metadata": {
    "scrolled": true
   },
   "outputs": [],
   "source": [
    "randNums = []\n",
    "for i in range(len(counts)):\n",
    "    randNums.append(binaryToDecimal(counts.popitem()[0]))\n",
    "randNums"
   ]
  },
  {
   "cell_type": "code",
   "execution_count": null,
   "id": "0de51a28",
   "metadata": {},
   "outputs": [],
   "source": [
    "counts1 = np.array(randNums)[0:1000]\n",
    "counts1"
   ]
  },
  {
   "cell_type": "code",
   "execution_count": null,
   "id": "3a074146",
   "metadata": {},
   "outputs": [],
   "source": [
    "len(randNums)"
   ]
  },
  {
   "cell_type": "code",
   "execution_count": null,
   "id": "7e367b4a",
   "metadata": {},
   "outputs": [],
   "source": [
    "binaryToDecimal(a[0])"
   ]
  }
 ],
 "metadata": {
  "kernelspec": {
   "display_name": "Python 3 (ipykernel)",
   "language": "python",
   "name": "python3"
  },
  "language_info": {
   "codemirror_mode": {
    "name": "ipython",
    "version": 3
   },
   "file_extension": ".py",
   "mimetype": "text/x-python",
   "name": "python",
   "nbconvert_exporter": "python",
   "pygments_lexer": "ipython3",
   "version": "3.9.7"
  }
 },
 "nbformat": 4,
 "nbformat_minor": 5
}
